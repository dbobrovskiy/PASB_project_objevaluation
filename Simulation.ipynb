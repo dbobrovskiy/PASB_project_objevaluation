{
 "cells": [
  {
   "cell_type": "code",
   "execution_count": 55,
   "metadata": {},
   "outputs": [],
   "source": [
    "import numpy as np\n",
    "import pandas as pd\n",
    "import matplotlib.pyplot as plt\n",
    "import seaborn as sns\n",
    "from math import log\n",
    "\n",
    "import cobra\n",
    "import cplex\n",
    "from cobra.io import read_sbml_model, load_matlab_model\n",
    "from cobra.flux_analysis import flux_variability_analysis\n",
    "\n",
    "from helpers import *"
   ]
  },
  {
   "cell_type": "markdown",
   "metadata": {},
   "source": [
    "# Genome-scale model"
   ]
  },
  {
   "cell_type": "code",
   "execution_count": 56,
   "metadata": {},
   "outputs": [],
   "source": [
    "fluxes = pd.read_csv(\"flux_data.csv\")"
   ]
  },
  {
   "cell_type": "markdown",
   "metadata": {},
   "source": [
    "## Compare objective functions"
   ]
  },
  {
   "cell_type": "code",
   "execution_count": 37,
   "metadata": {},
   "outputs": [
    {
     "name": "stdout",
     "output_type": "stream",
     "text": [
      "Linear objective, running flux variability analysis...\n"
     ]
    },
    {
     "name": "stderr",
     "output_type": "stream",
     "text": [
      "/home/danbobr/miniconda3/envs/systbio/lib/python3.8/site-packages/cobra/util/solver.py:554: UserWarning: Solver status is 'infeasible'.\n",
      "  warn(f\"Solver status is '{status}'.\", UserWarning)\n",
      "/home/danbobr/miniconda3/envs/systbio/lib/python3.8/site-packages/cobra/util/solver.py:554: UserWarning: Solver status is 'infeasible'.\n",
      "  warn(f\"Solver status is '{status}'.\", UserWarning)\n"
     ]
    },
    {
     "name": "stdout",
     "output_type": "stream",
     "text": [
      "Fluxes are variable.\n",
      "Maximizing and minimizing predictive fidelity...\n",
      "Running parsimonious FBA...\n"
     ]
    },
    {
     "data": {
      "text/html": [
       "<div>\n",
       "<style scoped>\n",
       "    .dataframe tbody tr th:only-of-type {\n",
       "        vertical-align: middle;\n",
       "    }\n",
       "\n",
       "    .dataframe tbody tr th {\n",
       "        vertical-align: top;\n",
       "    }\n",
       "\n",
       "    .dataframe thead th {\n",
       "        text-align: right;\n",
       "    }\n",
       "</style>\n",
       "<table border=\"1\" class=\"dataframe\">\n",
       "  <thead>\n",
       "    <tr style=\"text-align: right;\">\n",
       "      <th></th>\n",
       "      <th>objective</th>\n",
       "      <th>method</th>\n",
       "      <th>reaction_set</th>\n",
       "      <th>Batch_06</th>\n",
       "      <th>Batch_03</th>\n",
       "      <th>Batch_02</th>\n",
       "      <th>Chem_01</th>\n",
       "      <th>Chem_04C</th>\n",
       "      <th>Chem_04N</th>\n",
       "    </tr>\n",
       "  </thead>\n",
       "  <tbody>\n",
       "    <tr>\n",
       "      <th>0</th>\n",
       "      <td>biomass</td>\n",
       "      <td>fidmax</td>\n",
       "      <td>total</td>\n",
       "      <td>NaN</td>\n",
       "      <td>NaN</td>\n",
       "      <td>NaN</td>\n",
       "      <td>NaN</td>\n",
       "      <td>NaN</td>\n",
       "      <td>NaN</td>\n",
       "    </tr>\n",
       "    <tr>\n",
       "      <th>1</th>\n",
       "      <td>biomass</td>\n",
       "      <td>fidmax</td>\n",
       "      <td>shuetz</td>\n",
       "      <td>NaN</td>\n",
       "      <td>NaN</td>\n",
       "      <td>NaN</td>\n",
       "      <td>NaN</td>\n",
       "      <td>NaN</td>\n",
       "      <td>NaN</td>\n",
       "    </tr>\n",
       "    <tr>\n",
       "      <th>2</th>\n",
       "      <td>biomass</td>\n",
       "      <td>fidmin</td>\n",
       "      <td>total</td>\n",
       "      <td>0.027821</td>\n",
       "      <td>0.194821</td>\n",
       "      <td>0.197852</td>\n",
       "      <td>0.042988</td>\n",
       "      <td>0.030418</td>\n",
       "      <td>0.152467</td>\n",
       "    </tr>\n",
       "    <tr>\n",
       "      <th>3</th>\n",
       "      <td>biomass</td>\n",
       "      <td>fidmin</td>\n",
       "      <td>shuetz</td>\n",
       "      <td>0.060606</td>\n",
       "      <td>0.231230</td>\n",
       "      <td>0.148046</td>\n",
       "      <td>0.099560</td>\n",
       "      <td>0.027714</td>\n",
       "      <td>0.011274</td>\n",
       "    </tr>\n",
       "    <tr>\n",
       "      <th>4</th>\n",
       "      <td>biomass</td>\n",
       "      <td>pfba</td>\n",
       "      <td>total</td>\n",
       "      <td>0.040904</td>\n",
       "      <td>0.280497</td>\n",
       "      <td>0.215329</td>\n",
       "      <td>0.044803</td>\n",
       "      <td>0.033827</td>\n",
       "      <td>0.153868</td>\n",
       "    </tr>\n",
       "    <tr>\n",
       "      <th>5</th>\n",
       "      <td>biomass</td>\n",
       "      <td>pfba</td>\n",
       "      <td>shuetz</td>\n",
       "      <td>0.111769</td>\n",
       "      <td>0.639467</td>\n",
       "      <td>0.293429</td>\n",
       "      <td>0.105713</td>\n",
       "      <td>0.030461</td>\n",
       "      <td>0.014943</td>\n",
       "    </tr>\n",
       "  </tbody>\n",
       "</table>\n",
       "</div>"
      ],
      "text/plain": [
       "  objective  method reaction_set  Batch_06  Batch_03  Batch_02   Chem_01  \\\n",
       "0   biomass  fidmax        total       NaN       NaN       NaN       NaN   \n",
       "1   biomass  fidmax       shuetz       NaN       NaN       NaN       NaN   \n",
       "2   biomass  fidmin        total  0.027821  0.194821  0.197852  0.042988   \n",
       "3   biomass  fidmin       shuetz  0.060606  0.231230  0.148046  0.099560   \n",
       "4   biomass    pfba        total  0.040904  0.280497  0.215329  0.044803   \n",
       "5   biomass    pfba       shuetz  0.111769  0.639467  0.293429  0.105713   \n",
       "\n",
       "   Chem_04C  Chem_04N  \n",
       "0       NaN       NaN  \n",
       "1       NaN       NaN  \n",
       "2  0.030418  0.152467  \n",
       "3  0.027714  0.011274  \n",
       "4  0.033827  0.153868  \n",
       "5  0.030461  0.014943  "
      ]
     },
     "execution_count": 37,
     "metadata": {},
     "output_type": "execute_result"
    }
   ],
   "source": [
    "model = load_model()\n",
    "evaluate_objective(model, fluxes, objective=\"biomass\")"
   ]
  },
  {
   "cell_type": "code",
   "execution_count": 38,
   "metadata": {},
   "outputs": [
    {
     "name": "stdout",
     "output_type": "stream",
     "text": [
      "Linear objective, running flux variability analysis...\n",
      "Fluxes are variable.\n",
      "Maximizing and minimizing predictive fidelity...\n",
      "Running parsimonious FBA...\n"
     ]
    },
    {
     "data": {
      "text/html": [
       "<div>\n",
       "<style scoped>\n",
       "    .dataframe tbody tr th:only-of-type {\n",
       "        vertical-align: middle;\n",
       "    }\n",
       "\n",
       "    .dataframe tbody tr th {\n",
       "        vertical-align: top;\n",
       "    }\n",
       "\n",
       "    .dataframe thead th {\n",
       "        text-align: right;\n",
       "    }\n",
       "</style>\n",
       "<table border=\"1\" class=\"dataframe\">\n",
       "  <thead>\n",
       "    <tr style=\"text-align: right;\">\n",
       "      <th></th>\n",
       "      <th>objective</th>\n",
       "      <th>method</th>\n",
       "      <th>reaction_set</th>\n",
       "      <th>Batch_06</th>\n",
       "      <th>Batch_03</th>\n",
       "      <th>Batch_02</th>\n",
       "      <th>Chem_01</th>\n",
       "      <th>Chem_04C</th>\n",
       "      <th>Chem_04N</th>\n",
       "    </tr>\n",
       "  </thead>\n",
       "  <tbody>\n",
       "    <tr>\n",
       "      <th>0</th>\n",
       "      <td>ATP</td>\n",
       "      <td>fidmax</td>\n",
       "      <td>total</td>\n",
       "      <td>NaN</td>\n",
       "      <td>NaN</td>\n",
       "      <td>NaN</td>\n",
       "      <td>NaN</td>\n",
       "      <td>NaN</td>\n",
       "      <td>NaN</td>\n",
       "    </tr>\n",
       "    <tr>\n",
       "      <th>1</th>\n",
       "      <td>ATP</td>\n",
       "      <td>fidmax</td>\n",
       "      <td>shuetz</td>\n",
       "      <td>NaN</td>\n",
       "      <td>NaN</td>\n",
       "      <td>NaN</td>\n",
       "      <td>NaN</td>\n",
       "      <td>NaN</td>\n",
       "      <td>NaN</td>\n",
       "    </tr>\n",
       "    <tr>\n",
       "      <th>2</th>\n",
       "      <td>ATP</td>\n",
       "      <td>fidmin</td>\n",
       "      <td>total</td>\n",
       "      <td>0.371375</td>\n",
       "      <td>1.638162</td>\n",
       "      <td>2.558195</td>\n",
       "      <td>0.050376</td>\n",
       "      <td>0.104007</td>\n",
       "      <td>0.209967</td>\n",
       "    </tr>\n",
       "    <tr>\n",
       "      <th>3</th>\n",
       "      <td>ATP</td>\n",
       "      <td>fidmin</td>\n",
       "      <td>shuetz</td>\n",
       "      <td>0.049844</td>\n",
       "      <td>0.040944</td>\n",
       "      <td>0.018915</td>\n",
       "      <td>0.047765</td>\n",
       "      <td>0.023753</td>\n",
       "      <td>0.001804</td>\n",
       "    </tr>\n",
       "    <tr>\n",
       "      <th>4</th>\n",
       "      <td>ATP</td>\n",
       "      <td>pfba</td>\n",
       "      <td>total</td>\n",
       "      <td>0.436588</td>\n",
       "      <td>1.772064</td>\n",
       "      <td>2.585562</td>\n",
       "      <td>0.074370</td>\n",
       "      <td>0.132400</td>\n",
       "      <td>0.255262</td>\n",
       "    </tr>\n",
       "    <tr>\n",
       "      <th>5</th>\n",
       "      <td>ATP</td>\n",
       "      <td>pfba</td>\n",
       "      <td>shuetz</td>\n",
       "      <td>0.146518</td>\n",
       "      <td>0.535283</td>\n",
       "      <td>0.190122</td>\n",
       "      <td>0.089972</td>\n",
       "      <td>0.039499</td>\n",
       "      <td>0.010697</td>\n",
       "    </tr>\n",
       "  </tbody>\n",
       "</table>\n",
       "</div>"
      ],
      "text/plain": [
       "  objective  method reaction_set  Batch_06  Batch_03  Batch_02   Chem_01  \\\n",
       "0       ATP  fidmax        total       NaN       NaN       NaN       NaN   \n",
       "1       ATP  fidmax       shuetz       NaN       NaN       NaN       NaN   \n",
       "2       ATP  fidmin        total  0.371375  1.638162  2.558195  0.050376   \n",
       "3       ATP  fidmin       shuetz  0.049844  0.040944  0.018915  0.047765   \n",
       "4       ATP    pfba        total  0.436588  1.772064  2.585562  0.074370   \n",
       "5       ATP    pfba       shuetz  0.146518  0.535283  0.190122  0.089972   \n",
       "\n",
       "   Chem_04C  Chem_04N  \n",
       "0       NaN       NaN  \n",
       "1       NaN       NaN  \n",
       "2  0.104007  0.209967  \n",
       "3  0.023753  0.001804  \n",
       "4  0.132400  0.255262  \n",
       "5  0.039499  0.010697  "
      ]
     },
     "execution_count": 38,
     "metadata": {},
     "output_type": "execute_result"
    }
   ],
   "source": [
    "model = load_model()\n",
    "evaluate_objective(model, fluxes, objective=\"ATP\")"
   ]
  },
  {
   "cell_type": "code",
   "execution_count": 39,
   "metadata": {},
   "outputs": [
    {
     "name": "stdout",
     "output_type": "stream",
     "text": [
      "Quadratic objective, so fluxes aren't variable.\n"
     ]
    },
    {
     "data": {
      "text/html": [
       "<div>\n",
       "<style scoped>\n",
       "    .dataframe tbody tr th:only-of-type {\n",
       "        vertical-align: middle;\n",
       "    }\n",
       "\n",
       "    .dataframe tbody tr th {\n",
       "        vertical-align: top;\n",
       "    }\n",
       "\n",
       "    .dataframe thead th {\n",
       "        text-align: right;\n",
       "    }\n",
       "</style>\n",
       "<table border=\"1\" class=\"dataframe\">\n",
       "  <thead>\n",
       "    <tr style=\"text-align: right;\">\n",
       "      <th></th>\n",
       "      <th>objective</th>\n",
       "      <th>method</th>\n",
       "      <th>reaction_set</th>\n",
       "      <th>Batch_06</th>\n",
       "      <th>Batch_03</th>\n",
       "      <th>Batch_02</th>\n",
       "      <th>Chem_01</th>\n",
       "      <th>Chem_04C</th>\n",
       "      <th>Chem_04N</th>\n",
       "    </tr>\n",
       "  </thead>\n",
       "  <tbody>\n",
       "    <tr>\n",
       "      <th>0</th>\n",
       "      <td>minfluxsq</td>\n",
       "      <td>fba</td>\n",
       "      <td>total</td>\n",
       "      <td>0.260109</td>\n",
       "      <td>0.446945</td>\n",
       "      <td>0.148298</td>\n",
       "      <td>0.164692</td>\n",
       "      <td>0.200793</td>\n",
       "      <td>0.039971</td>\n",
       "    </tr>\n",
       "    <tr>\n",
       "      <th>1</th>\n",
       "      <td>minfluxsq</td>\n",
       "      <td>fba</td>\n",
       "      <td>shuetz</td>\n",
       "      <td>0.287880</td>\n",
       "      <td>0.953376</td>\n",
       "      <td>0.679014</td>\n",
       "      <td>0.188373</td>\n",
       "      <td>0.072677</td>\n",
       "      <td>0.031847</td>\n",
       "    </tr>\n",
       "  </tbody>\n",
       "</table>\n",
       "</div>"
      ],
      "text/plain": [
       "   objective method reaction_set  Batch_06  Batch_03  Batch_02   Chem_01  \\\n",
       "0  minfluxsq    fba        total  0.260109  0.446945  0.148298  0.164692   \n",
       "1  minfluxsq    fba       shuetz  0.287880  0.953376  0.679014  0.188373   \n",
       "\n",
       "   Chem_04C  Chem_04N  \n",
       "0  0.200793  0.039971  \n",
       "1  0.072677  0.031847  "
      ]
     },
     "execution_count": 39,
     "metadata": {},
     "output_type": "execute_result"
    }
   ],
   "source": [
    "model = load_model()\n",
    "evaluate_objective(model, fluxes, objective=\"minfluxsq\")"
   ]
  },
  {
   "cell_type": "code",
   "execution_count": 42,
   "metadata": {},
   "outputs": [
    {
     "name": "stdout",
     "output_type": "stream",
     "text": [
      "Quadratic objective, so fluxes aren't variable.\n"
     ]
    },
    {
     "data": {
      "text/html": [
       "<div>\n",
       "<style scoped>\n",
       "    .dataframe tbody tr th:only-of-type {\n",
       "        vertical-align: middle;\n",
       "    }\n",
       "\n",
       "    .dataframe tbody tr th {\n",
       "        vertical-align: top;\n",
       "    }\n",
       "\n",
       "    .dataframe thead th {\n",
       "        text-align: right;\n",
       "    }\n",
       "</style>\n",
       "<table border=\"1\" class=\"dataframe\">\n",
       "  <thead>\n",
       "    <tr style=\"text-align: right;\">\n",
       "      <th></th>\n",
       "      <th>objective</th>\n",
       "      <th>method</th>\n",
       "      <th>reaction_set</th>\n",
       "      <th>Batch_06</th>\n",
       "      <th>Batch_03</th>\n",
       "      <th>Batch_02</th>\n",
       "      <th>Chem_01</th>\n",
       "      <th>Chem_04C</th>\n",
       "      <th>Chem_04N</th>\n",
       "    </tr>\n",
       "  </thead>\n",
       "  <tbody>\n",
       "    <tr>\n",
       "      <th>0</th>\n",
       "      <td>minfluxabs</td>\n",
       "      <td>fba</td>\n",
       "      <td>total</td>\n",
       "      <td>0.260109</td>\n",
       "      <td>0.446945</td>\n",
       "      <td>0.148298</td>\n",
       "      <td>0.164692</td>\n",
       "      <td>0.200793</td>\n",
       "      <td>0.039971</td>\n",
       "    </tr>\n",
       "    <tr>\n",
       "      <th>1</th>\n",
       "      <td>minfluxabs</td>\n",
       "      <td>fba</td>\n",
       "      <td>shuetz</td>\n",
       "      <td>0.287880</td>\n",
       "      <td>0.953376</td>\n",
       "      <td>0.679014</td>\n",
       "      <td>0.188373</td>\n",
       "      <td>0.072677</td>\n",
       "      <td>0.031847</td>\n",
       "    </tr>\n",
       "  </tbody>\n",
       "</table>\n",
       "</div>"
      ],
      "text/plain": [
       "    objective method reaction_set  Batch_06  Batch_03  Batch_02   Chem_01  \\\n",
       "0  minfluxabs    fba        total  0.260109  0.446945  0.148298  0.164692   \n",
       "1  minfluxabs    fba       shuetz  0.287880  0.953376  0.679014  0.188373   \n",
       "\n",
       "   Chem_04C  Chem_04N  \n",
       "0  0.200793  0.039971  \n",
       "1  0.072677  0.031847  "
      ]
     },
     "execution_count": 42,
     "metadata": {},
     "output_type": "execute_result"
    }
   ],
   "source": [
    "model = load_model()\n",
    "evaluate_objective(model, fluxes, objective=\"minfluxabs\")"
   ]
  },
  {
   "cell_type": "code",
   "execution_count": null,
   "metadata": {},
   "outputs": [],
   "source": [
    "model = load_model()\n",
    "evaluate_objective(model, fluxes, objective=\"ATPperflux\")"
   ]
  },
  {
   "cell_type": "code",
   "execution_count": null,
   "metadata": {},
   "outputs": [],
   "source": [
    "model = load_model()\n",
    "evaluate_objective(model, fluxes, objective=\"biomassperflux\")"
   ]
  },
  {
   "cell_type": "markdown",
   "metadata": {},
   "source": [
    "## Biomass objective"
   ]
  },
  {
   "cell_type": "code",
   "execution_count": 7,
   "metadata": {},
   "outputs": [],
   "source": [
    "ratios = []\n",
    "for i in range(fluxes.shape[0]):\n",
    "    reaction = fluxes[\"iAF1260\"][i]\n",
    "    metabolite = fluxes[\"Metab_norm\"][i]\n",
    "    ratios.append(calculate_split_ratio(model, reaction, metabolite))\n",
    "fluxes[\"ratio\"] = ratios"
   ]
  },
  {
   "cell_type": "code",
   "execution_count": 8,
   "metadata": {},
   "outputs": [
    {
     "data": {
      "text/plain": [
       "Series([], Name: ratio, dtype: float64)"
      ]
     },
     "execution_count": 8,
     "metadata": {},
     "output_type": "execute_result"
    }
   ],
   "source": [
    "# print ratios that are below 0 or above 1\n",
    "fluxes.ratio[(fluxes[\"ratio\"] < 0) | (fluxes[\"ratio\"] > 1.00000001)]"
   ]
  },
  {
   "cell_type": "code",
   "execution_count": 9,
   "metadata": {},
   "outputs": [
    {
     "data": {
      "image/png": "[encoded data removed]",
      "text/plain": [
       "<Figure size 640x480 with 1 Axes>"
      ]
     },
     "metadata": {},
     "output_type": "display_data"
    }
   ],
   "source": [
    "plt.hist(fluxes[\"ratio\"], bins=100)\n",
    "plt.show()"
   ]
  },
  {
   "cell_type": "markdown",
   "metadata": {},
   "source": [
    "# Model from the paper"
   ]
  },
  {
   "cell_type": "code",
   "execution_count": 2,
   "metadata": {},
   "outputs": [],
   "source": [
    "model = read_sbml_model(\"EcoliModel.xml\")"
   ]
  },
  {
   "cell_type": "code",
   "execution_count": 38,
   "metadata": {},
   "outputs": [
    {
     "name": "stdout",
     "output_type": "stream",
     "text": [
      "glk: ATP + GLC --> G6P\n",
      "pgi: G6P <=> F6P\n",
      "pfkA: ATP + F6P --> FDP\n",
      "pfkB: ATP + F6P --> FDP\n",
      "fbaA: FDP <=> DHAP + GA3P\n",
      "fbaB: FDP <=> DHAP + GA3P\n",
      "tpiA: DHAP <=> GA3P\n",
      "gapA: GA3P <=> NADH + _13DPG\n",
      "pgk: _13DPG <=> ATP + _3PG\n",
      "gpmA: _3PG <=> _2PG\n",
      "gpmB: _3PG <=> _2PG\n",
      "eno: _2PG <=> PEP\n",
      "pykF: PEP --> ATP + PYR\n",
      "pykA: PEP --> ATP + PYR\n",
      "aceEF: COA + PYR --> ACCOA + CO2 + NADH\n",
      "maeB: MAL --> CO2 + NADPH + PYR\n",
      "maeA: MAL --> CO2 + NADH + PYR\n",
      "pck: ATP + OA --> CO2 + PEP\n",
      "fbp: FDP --> F6P\n",
      "glpX: FDP --> F6P\n",
      "pps: 2.0 ATP + PYR --> PEP\n",
      "zwf: G6P <=> D6PGL + NADPH\n",
      "pgl: D6PGL --> _6PGC\n",
      "gnd: _6PGC --> CO2 + NADPH + RL5P\n",
      "rpiA: RL5P <=> R5P\n",
      "rpiB: RL5P <=> R5P\n",
      "rpe: RL5P <=> X5P\n",
      "tktA: R5P + X5P <=> GA3P + S7P\n",
      "tktB: R5P + X5P <=> GA3P + S7P\n",
      "tktA_r2: E4P + X5P <=> F6P + GA3P\n",
      "tktB_r2: E4P + X5P <=> F6P + GA3P\n",
      "talA: GA3P + S7P <=> E4P + F6P\n",
      "talB: GA3P + S7P <=> E4P + F6P\n",
      "gltA: ACCOA + OA --> CIT + COA\n",
      "prpC: ACCOA + OA --> CIT + COA\n",
      "acnA: CIT <=> CAC\n",
      "acnA_r2: CAC <=> ICIT\n",
      "acnB: CIT <=> CAC\n",
      "acnB_r2: CAC <=> ICIT\n",
      "icd: ICIT <=> AKG + CO2 + NADPH\n",
      "sucAB: AKG + COA --> CO2 + NADH + SUCCOA\n",
      "sucCD: SUCCOA <=> ATP + COA + SUCC\n",
      "frdABCD: SUCC <=> FADH + FUM\n",
      "sdhAB: SUCC <=> FADH + FUM\n",
      "fumA: FUM <=> MAL\n",
      "fumB: FUM <=> MAL\n",
      "fumC: FUM <=> MAL\n",
      "mdh: MAL <=> NADH + OA\n",
      "mqo: MAL + Q --> OA + QH2\n",
      "aceA: ICIT <=> GLX + SUCC\n",
      "aceB: ACCOA + GLX --> COA + MAL\n",
      "ppc: CO2 + PEP --> OA\n",
      "pntAB: Hxt + NADH --> NADPH\n",
      "udhA: NADPH --> NADH\n",
      "atp: 4.0 Hxt --> ATP\n",
      "nuo: NADH + Q --> 4.0 Hxt + QH2\n",
      "ndh: NADH + Q --> QH2\n",
      "cyoABCD: 0.5 O2 + QH2 --> 4.0 Hxt + Q\n",
      "cydAB: 0.5 O2 + QH2 --> 2.0 Hxt + Q\n",
      "narGHI: NO3 + QH2 --> 2.0 Hxt + NO2 + Q\n",
      "poxB: PYR + Q --> AC + CO2 + QH2\n",
      "sdhABCD: Q + SUCC <=> FUM + QH2\n",
      "sdhABCD_r2: FADH + Q <=> QH2\n",
      "pflB: COA + PYR <=> ACCOA + FOR\n",
      "tdcE: COA + PYR <=> ACCOA + FOR\n",
      "fdhF: FOR --> CO2 + NADH\n",
      "fdoGHI: FOR --> CO2 + NADH\n",
      "fdnGHI_r2: FOR --> CO2 + NADH\n",
      "adhE: ACCOA + NADH <=> ACAL + COA\n",
      "mhpF: ACCOA + NADH <=> ACAL + COA\n",
      "adhE_r2: ACAL + NADH <=> ETH\n",
      "adhP: ACAL + NADH <=> ETH\n",
      "adhC: ACAL + NADH <=> ETH\n",
      "pta: ACCOA --> ACTP + COA\n",
      "ackA: ACTP <=> AC + ATP\n",
      "ackB: ACTP <=> AC + ATP\n",
      "tdcD: ACTP <=> AC + ATP\n",
      "purT: ACTP <=> AC + ATP\n",
      "acs: AC + 2.0 ATP + COA --> ACCOA\n",
      "dld: LAC --> FADH + PYR\n",
      "ldhA: LAC <=> NADH + PYR\n",
      "edd: _6PGC --> _2KD6PG\n",
      "eda: _2KD6PG --> GA3P + PYR\n",
      "mgsA: DHAP --> LAC\n",
      "ptsGHI: GLCxt + PEP --> G6P + PYR\n",
      "co2: CO2 --> CO2xt\n",
      "o2: O2xt --> O2\n",
      "no3: NO3xt --> NO3\n",
      "no2: NO2 --> NO2xt\n",
      "eth: ETH <=> ETHxt\n",
      "ac: AC <=> Acxt\n",
      "succ: SUCC --> SUCCxt\n",
      "lac: LAC --> LACxt\n",
      "pyr: PYR --> PYRxt\n",
      "focA: FOR --> FORxt\n",
      "mglABC: GLCxt + Hxt --> GLC\n",
      "maint: ATP --> external_ATP\n",
      "biomass: 2.41 ACCOA + 1.28 AKG + 40.2 ATP + 0.36 E4P + 0.07 F6P + 0.33 G6P + 0.36 GA3P + 15.7 NADPH + 1.65 OA + 0.77 PEP + 2.94 PYR + 0.96 R5P + 0.86 _3PG --> BM + 3.0 NADH\n"
     ]
    }
   ],
   "source": [
    "irreversible = [\"glk\", \"pfkA\", \"pfkB\", \"pykF\", \"pykA\", \"aceEF\",\n",
    "                \"maeB\", \"maeA\", \"pck\", \"fbp\", \"glpX\", \"pps\",\n",
    "                \"pgl\", \"gnd\", \"gltA\", \"prpC\", \"sucAB\", \"mqo\",\n",
    "                \"aceB\", \"ppc\", \"pntAB\", \"udhA\", \"atp\", \"nuo\",\n",
    "                \"ndh\", \"cyoABCD\", \"cydAB\", \"narGHI\", \"poxB\",\n",
    "                \"fdhF\", \"fdoGHI\", \"fdnGHI_r2\", \"pta\", \"acs\",\n",
    "                \"dld\", \"edd\", \"eda\", \"mgsA\", \"ptsGHI\", \"co2\",\n",
    "                \"o2\", \"no3\", \"no2\", \"succ\", \"lac\", \"pyr\", \"focA\",\n",
    "                \"mglABC\", \"maint\", \"biomass\"]\n",
    "\n",
    "count = 0\n",
    "for reaction in model.reactions:\n",
    "    if reaction.id in irreversible:\n",
    "        count += 1\n",
    "        reaction.lower_bound = 0\n",
    "    if reaction.check_mass_balance() != {}:\n",
    "        print(reaction.id, reaction.check_mass_balance())\n",
    "    print(reaction)"
   ]
  },
  {
   "cell_type": "code",
   "execution_count": 27,
   "metadata": {},
   "outputs": [
    {
     "data": {
      "text/html": [
       "\n",
       "        <table>\n",
       "            <tr>\n",
       "                <td><strong>Reaction identifier</strong></td><td>biomass</td>\n",
       "            </tr><tr>\n",
       "                <td><strong>Name</strong></td><td>biomass</td>\n",
       "            </tr><tr>\n",
       "                <td><strong>Memory address</strong></td>\n",
       "                <td>0x7f01d27f1f70</td>\n",
       "            </tr><tr>\n",
       "                <td><strong>Stoichiometry</strong></td>\n",
       "                <td>\n",
       "                    <p style='text-align:right'>2.41 ACCOA + 1.28 AKG + 40.2 ATP + 0.36 E4P + 0.07 F6P + 0.33 G6P + 0.12 GA3P + 15.7 NADPH + 1.65 OA + 0.77 PEP + 2.94 PYR + 0.96 R5P + 0.86 _3PG --> BM + 2.41 COA + 3.0 NADH</p>\n",
       "                    <p style='text-align:right'>2.41 ACCOA + 1.28 AKG + 40.2 ATP + 0.36 E4P + 0.07 F6P + 0.33 G6P + 0.12 GA3P + 15.7 NADPH + 1.65 OA + 0.77 PEP + 2.94 PYR + 0.96 R5P + 0.86 3PG --> BM + 2.41 COA + 3.0 NADH</p>\n",
       "                </td>\n",
       "            </tr><tr>\n",
       "                <td><strong>GPR</strong></td><td></td>\n",
       "            </tr><tr>\n",
       "                <td><strong>Lower bound</strong></td><td>0</td>\n",
       "            </tr><tr>\n",
       "                <td><strong>Upper bound</strong></td><td>1000.0</td>\n",
       "            </tr>\n",
       "        </table>\n",
       "        "
      ],
      "text/plain": [
       "<Reaction biomass at 0x7f01d27f1f70>"
      ]
     },
     "execution_count": 27,
     "metadata": {},
     "output_type": "execute_result"
    }
   ],
   "source": [
    "model.reactions.get_by_id(\"biomass\")"
   ]
  },
  {
   "cell_type": "code",
   "execution_count": 28,
   "metadata": {},
   "outputs": [],
   "source": [
    "model.reactions.get_by_id(\"biomass\").subtract_metabolites({\n",
    "    model.metabolites.get_by_id(\"COA\"): 2.41,\n",
    "})\n",
    "model.reactions.get_by_id(\"biomass\").add_metabolites({\n",
    "    model.metabolites.get_by_id(\"GA3P\"): -0.24,\n",
    "})"
   ]
  },
  {
   "cell_type": "code",
   "execution_count": 29,
   "metadata": {},
   "outputs": [
    {
     "data": {
      "text/html": [
       "\n",
       "        <table>\n",
       "            <tr>\n",
       "                <td><strong>Reaction identifier</strong></td><td>biomass</td>\n",
       "            </tr><tr>\n",
       "                <td><strong>Name</strong></td><td>biomass</td>\n",
       "            </tr><tr>\n",
       "                <td><strong>Memory address</strong></td>\n",
       "                <td>0x7f01d27f1f70</td>\n",
       "            </tr><tr>\n",
       "                <td><strong>Stoichiometry</strong></td>\n",
       "                <td>\n",
       "                    <p style='text-align:right'>2.41 ACCOA + 1.28 AKG + 40.2 ATP + 0.36 E4P + 0.07 F6P + 0.33 G6P + 0.36 GA3P + 15.7 NADPH + 1.65 OA + 0.77 PEP + 2.94 PYR + 0.96 R5P + 0.86 _3PG --> BM + 3.0 NADH</p>\n",
       "                    <p style='text-align:right'>2.41 ACCOA + 1.28 AKG + 40.2 ATP + 0.36 E4P + 0.07 F6P + 0.33 G6P + 0.36 GA3P + 15.7 NADPH + 1.65 OA + 0.77 PEP + 2.94 PYR + 0.96 R5P + 0.86 3PG --> BM + 3.0 NADH</p>\n",
       "                </td>\n",
       "            </tr><tr>\n",
       "                <td><strong>GPR</strong></td><td></td>\n",
       "            </tr><tr>\n",
       "                <td><strong>Lower bound</strong></td><td>0</td>\n",
       "            </tr><tr>\n",
       "                <td><strong>Upper bound</strong></td><td>1000.0</td>\n",
       "            </tr>\n",
       "        </table>\n",
       "        "
      ],
      "text/plain": [
       "<Reaction biomass at 0x7f01d27f1f70>"
      ]
     },
     "execution_count": 29,
     "metadata": {},
     "output_type": "execute_result"
    }
   ],
   "source": [
    "model.reactions.get_by_id(\"biomass\")"
   ]
  },
  {
   "cell_type": "code",
   "execution_count": 30,
   "metadata": {},
   "outputs": [
    {
     "name": "stdout",
     "output_type": "stream",
     "text": [
      "Metabolite: GLC, reactions: ['glk', 'mglABC']\n",
      "Metabolite: ATP, reactions: ['pgk', 'pps', 'maint', 'ackB', 'atp', 'acs', 'pfkA', 'purT', 'pykA', 'sucCD', 'ackA', 'pfkB', 'glk', 'pykF', 'pck', 'biomass', 'tdcD']\n",
      "Metabolite: G6P, reactions: ['glk', 'zwf', 'ptsGHI', 'biomass', 'pgi']\n",
      "Metabolite: F6P, reactions: ['tktB_r2', 'fbp', 'pfkB', 'talA', 'talB', 'tktA_r2', 'biomass', 'glpX', 'pfkA', 'pgi']\n",
      "Metabolite: FDP, reactions: ['pfkB', 'fbaA', 'glpX', 'fbp', 'pfkA', 'fbaB']\n",
      "Metabolite: DHAP, reactions: ['fbaA', 'tpiA', 'fbaB', 'mgsA']\n",
      "Metabolite: GA3P, reactions: ['tpiA', 'tktB_r2', 'gapA', 'tktB', 'fbaA', 'eda', 'talA', 'talB', 'tktA_r2', 'biomass', 'fbaB', 'tktA']\n",
      "Metabolite: NADH, reactions: ['sucAB', 'mdh', 'adhE_r2', 'adhC', 'gapA', 'adhP', 'fdhF', 'fdnGHI_r2', 'fdoGHI', 'aceEF', 'nuo', 'mhpF', 'adhE', 'pntAB', 'udhA', 'ndh', 'ldhA', 'biomass', 'maeA']\n",
      "Metabolite: 13DPG, reactions: ['pgk', 'gapA']\n",
      "Metabolite: 3PG, reactions: ['pgk', 'gpmB', 'gpmA', 'biomass']\n",
      "Metabolite: 2PG, reactions: ['gpmB', 'eno', 'gpmA']\n",
      "Metabolite: PEP, reactions: ['pykA', 'ppc', 'pps', 'pykF', 'ptsGHI', 'pck', 'biomass', 'eno']\n",
      "Metabolite: PYR, reactions: ['dld', 'pykA', 'pflB', 'pps', 'maeB', 'pykF', 'tdcE', 'ldhA', 'ptsGHI', 'biomass', 'poxB', 'maeA', 'eda', 'aceEF', 'pyr']\n",
      "Metabolite: COA, reactions: ['sucAB', 'mhpF', 'prpC', 'pflB', 'sucCD', 'gltA', 'adhE', 'pta', 'tdcE', 'aceB', 'aceEF', 'acs']\n",
      "Metabolite: ACCOA, reactions: ['mhpF', 'prpC', 'pflB', 'adhE', 'gltA', 'pta', 'tdcE', 'aceB', 'biomass', 'aceEF', 'acs']\n",
      "Metabolite: CO2, reactions: ['sucAB', 'gnd', 'ppc', 'co2', 'maeB', 'fdhF', 'fdnGHI_r2', 'pck', 'icd', 'poxB', 'fdoGHI', 'maeA', 'aceEF']\n",
      "Metabolite: MAL, reactions: ['mdh', 'fumA', 'fumB', 'fumC', 'maeB', 'aceB', 'maeA', 'mqo']\n",
      "Metabolite: NADPH, reactions: ['maeB', 'zwf', 'biomass', 'gnd', 'icd', 'pntAB', 'udhA']\n",
      "Metabolite: OA, reactions: ['mdh', 'pck', 'biomass', 'prpC', 'ppc', 'gltA', 'mqo']\n",
      "Metabolite: D6PGL, reactions: ['zwf', 'pgl']\n",
      "Metabolite: 6PGC, reactions: ['gnd', 'pgl', 'edd']\n",
      "Metabolite: RL5P, reactions: ['gnd', 'rpiB', 'rpiA', 'rpe']\n",
      "Metabolite: R5P, reactions: ['tktB', 'biomass', 'rpiB', 'rpiA', 'tktA']\n",
      "Metabolite: X5P, reactions: ['tktB', 'rpe', 'tktB_r2', 'tktA_r2', 'tktA']\n",
      "Metabolite: S7P, reactions: ['tktB', 'talA', 'talB', 'tktA']\n",
      "Metabolite: E4P, reactions: ['talA', 'talB', 'tktB_r2', 'tktA_r2', 'biomass']\n",
      "Metabolite: CIT, reactions: ['prpC', 'acnB', 'gltA', 'acnA']\n",
      "Metabolite: CAC, reactions: ['acnB', 'acnB_r2', 'acnA_r2', 'acnA']\n",
      "Metabolite: ICIT, reactions: ['icd', 'acnB_r2', 'aceA', 'acnA_r2']\n",
      "Metabolite: AKG, reactions: ['sucAB', 'icd', 'biomass']\n",
      "Metabolite: SUCCOA, reactions: ['sucAB', 'sucCD']\n",
      "Metabolite: SUCC, reactions: ['sdhABCD', 'sdhAB', 'frdABCD', 'succ', 'sucCD', 'aceA']\n",
      "Metabolite: FUM, reactions: ['sdhAB', 'frdABCD', 'sdhABCD', 'fumA', 'fumB', 'fumC']\n",
      "Metabolite: FADH, reactions: ['sdhAB', 'frdABCD', 'sdhABCD_r2', 'dld']\n",
      "Metabolite: Q, reactions: ['nuo', 'cyoABCD', 'ndh', 'narGHI', 'sdhABCD', 'cydAB', 'poxB', 'sdhABCD_r2', 'mqo']\n",
      "Metabolite: QH2, reactions: ['nuo', 'cyoABCD', 'ndh', 'narGHI', 'sdhABCD', 'cydAB', 'poxB', 'sdhABCD_r2', 'mqo']\n",
      "Metabolite: GLX, reactions: ['aceA', 'aceB']\n",
      "Metabolite: Hxt, reactions: ['narGHI', 'nuo', 'cyoABCD', 'cydAB', 'atp', 'pntAB', 'mglABC']\n",
      "Metabolite: O2, reactions: ['o2', 'cyoABCD', 'cydAB']\n",
      "Metabolite: NO3, reactions: ['no3', 'narGHI']\n",
      "Metabolite: NO2, reactions: ['narGHI', 'no2']\n",
      "Metabolite: AC, reactions: ['purT', 'ackB', 'tdcD', 'ac', 'poxB', 'ackA', 'acs']\n",
      "Metabolite: FOR, reactions: ['fdhF', 'tdcE', 'fdnGHI_r2', 'fdoGHI', 'pflB', 'focA']\n",
      "Metabolite: ACAL, reactions: ['adhP', 'adhE_r2', 'mhpF', 'adhC', 'adhE']\n",
      "Metabolite: ETH, reactions: ['adhP', 'adhE_r2', 'eth', 'adhC']\n",
      "Metabolite: ACTP, reactions: ['purT', 'ackB', 'tdcD', 'pta', 'ackA']\n",
      "Metabolite: LAC, reactions: ['lac', 'ldhA', 'mgsA', 'dld']\n",
      "Metabolite: 2KD6PG, reactions: ['eda', 'edd']\n",
      "Metabolite: GLCxt, reactions: ['ptsGHI', 'mglABC']\n",
      "Metabolite: CO2xt, reactions: ['co2']\n",
      "Metabolite: O2xt, reactions: ['o2']\n",
      "Metabolite: NO3xt, reactions: ['no3']\n",
      "Metabolite: NO2xt, reactions: ['no2']\n",
      "Metabolite: ETHxt, reactions: ['eth']\n",
      "Metabolite: Acxt, reactions: ['ac']\n",
      "Metabolite: SUCCxt, reactions: ['succ']\n",
      "Metabolite: LACxt, reactions: ['lac']\n",
      "Metabolite: PYRxt, reactions: ['pyr']\n",
      "Metabolite: FORxt, reactions: ['focA']\n",
      "Metabolite: BM, reactions: ['biomass']\n",
      "Metabolite: external_ATP, reactions: ['maint']\n"
     ]
    }
   ],
   "source": [
    "for metab in model.metabolites:\n",
    "    metab_reactions = [react.id for react in metab.reactions]\n",
    "    print(f\"Metabolite: {metab.name}, reactions: {metab_reactions}\")"
   ]
  },
  {
   "cell_type": "code",
   "execution_count": 31,
   "metadata": {},
   "outputs": [
    {
     "data": {
      "text/plain": [
       "[]"
      ]
     },
     "execution_count": 31,
     "metadata": {},
     "output_type": "execute_result"
    }
   ],
   "source": [
    "model.boundary"
   ]
  },
  {
   "cell_type": "code",
   "execution_count": 32,
   "metadata": {},
   "outputs": [],
   "source": [
    "model.objective = \"biomass\""
   ]
  },
  {
   "cell_type": "code",
   "execution_count": 33,
   "metadata": {},
   "outputs": [
    {
     "name": "stdout",
     "output_type": "stream",
     "text": [
      "1.0*biomass - 1.0*biomass_reverse_01e59\n",
      "max\n"
     ]
    }
   ],
   "source": [
    "print(model.objective.expression)\n",
    "print(model.objective.direction)"
   ]
  },
  {
   "cell_type": "code",
   "execution_count": 36,
   "metadata": {},
   "outputs": [
    {
     "data": {
      "text/html": [
       "<strong><em>Optimal</em> solution with objective value 0.000</strong><br><div>\n",
       "<style scoped>\n",
       "    .dataframe tbody tr th:only-of-type {\n",
       "        vertical-align: middle;\n",
       "    }\n",
       "\n",
       "    .dataframe tbody tr th {\n",
       "        vertical-align: top;\n",
       "    }\n",
       "\n",
       "    .dataframe thead th {\n",
       "        text-align: right;\n",
       "    }\n",
       "</style>\n",
       "<table border=\"1\" class=\"dataframe\">\n",
       "  <thead>\n",
       "    <tr style=\"text-align: right;\">\n",
       "      <th></th>\n",
       "      <th>fluxes</th>\n",
       "      <th>reduced_costs</th>\n",
       "    </tr>\n",
       "  </thead>\n",
       "  <tbody>\n",
       "    <tr>\n",
       "      <th>glk</th>\n",
       "      <td>0.0</td>\n",
       "      <td>-1.573667e-02</td>\n",
       "    </tr>\n",
       "    <tr>\n",
       "      <th>pgi</th>\n",
       "      <td>0.0</td>\n",
       "      <td>-2.678732e-18</td>\n",
       "    </tr>\n",
       "    <tr>\n",
       "      <th>pfkA</th>\n",
       "      <td>0.0</td>\n",
       "      <td>-0.000000e+00</td>\n",
       "    </tr>\n",
       "    <tr>\n",
       "      <th>pfkB</th>\n",
       "      <td>0.0</td>\n",
       "      <td>0.000000e+00</td>\n",
       "    </tr>\n",
       "    <tr>\n",
       "      <th>fbaA</th>\n",
       "      <td>0.0</td>\n",
       "      <td>0.000000e+00</td>\n",
       "    </tr>\n",
       "    <tr>\n",
       "      <th>...</th>\n",
       "      <td>...</td>\n",
       "      <td>...</td>\n",
       "    </tr>\n",
       "    <tr>\n",
       "      <th>pyr</th>\n",
       "      <td>0.0</td>\n",
       "      <td>0.000000e+00</td>\n",
       "    </tr>\n",
       "    <tr>\n",
       "      <th>focA</th>\n",
       "      <td>0.0</td>\n",
       "      <td>0.000000e+00</td>\n",
       "    </tr>\n",
       "    <tr>\n",
       "      <th>mglABC</th>\n",
       "      <td>0.0</td>\n",
       "      <td>-1.311389e-02</td>\n",
       "    </tr>\n",
       "    <tr>\n",
       "      <th>maint</th>\n",
       "      <td>0.0</td>\n",
       "      <td>-5.245558e-02</td>\n",
       "    </tr>\n",
       "    <tr>\n",
       "      <th>biomass</th>\n",
       "      <td>0.0</td>\n",
       "      <td>0.000000e+00</td>\n",
       "    </tr>\n",
       "  </tbody>\n",
       "</table>\n",
       "<p>98 rows × 2 columns</p>\n",
       "</div>"
      ],
      "text/plain": [
       "<Solution 0.000 at 0x7f01d26f2460>"
      ]
     },
     "execution_count": 36,
     "metadata": {},
     "output_type": "execute_result"
    }
   ],
   "source": [
    "model.optimize()"
   ]
  },
  {
   "cell_type": "code",
   "execution_count": 12,
   "metadata": {},
   "outputs": [
    {
     "data": {
      "text/html": [
       "<h3>Objective</h3><p>1.0 biomass = 0.0</p><h4>Uptake</h4><table border=\"1\" class=\"dataframe\">\n",
       "  <thead>\n",
       "    <tr style=\"text-align: right;\">\n",
       "      <th>Metabolite</th>\n",
       "      <th>Reaction</th>\n",
       "      <th>Flux</th>\n",
       "      <th>C-Number</th>\n",
       "      <th>C-Flux</th>\n",
       "    </tr>\n",
       "  </thead>\n",
       "  <tbody>\n",
       "  </tbody>\n",
       "</table><h4>Secretion</h4><table border=\"1\" class=\"dataframe\">\n",
       "  <thead>\n",
       "    <tr style=\"text-align: right;\">\n",
       "      <th>Metabolite</th>\n",
       "      <th>Reaction</th>\n",
       "      <th>Flux</th>\n",
       "      <th>C-Number</th>\n",
       "      <th>C-Flux</th>\n",
       "    </tr>\n",
       "  </thead>\n",
       "  <tbody>\n",
       "  </tbody>\n",
       "</table>"
      ],
      "text/plain": [
       "<cobra.summary.model_summary.ModelSummary at 0x7fd81342d520>"
      ]
     },
     "execution_count": 12,
     "metadata": {},
     "output_type": "execute_result"
    }
   ],
   "source": [
    "model.summary()"
   ]
  },
  {
   "cell_type": "code",
   "execution_count": 15,
   "metadata": {},
   "outputs": [
    {
     "data": {
      "text/html": [
       "<h3>ATP</h3><p>None</p><h4>Producing Reactions</h4><table border=\"1\" class=\"dataframe\">\n",
       "  <thead>\n",
       "    <tr style=\"text-align: right;\">\n",
       "      <th>Percent</th>\n",
       "      <th>Flux</th>\n",
       "      <th>Reaction</th>\n",
       "      <th>Definition</th>\n",
       "    </tr>\n",
       "  </thead>\n",
       "  <tbody>\n",
       "  </tbody>\n",
       "</table><h4>Consuming Reactions</h4><table border=\"1\" class=\"dataframe\">\n",
       "  <thead>\n",
       "    <tr style=\"text-align: right;\">\n",
       "      <th>Percent</th>\n",
       "      <th>Flux</th>\n",
       "      <th>Reaction</th>\n",
       "      <th>Definition</th>\n",
       "    </tr>\n",
       "  </thead>\n",
       "  <tbody>\n",
       "  </tbody>\n",
       "</table>"
      ],
      "text/plain": [
       "<cobra.summary.metabolite_summary.MetaboliteSummary at 0x7fd8133b5c40>"
      ]
     },
     "execution_count": 15,
     "metadata": {},
     "output_type": "execute_result"
    }
   ],
   "source": [
    "model.metabolites.ATP.summary()"
   ]
  },
  {
   "cell_type": "code",
   "execution_count": null,
   "metadata": {},
   "outputs": [],
   "source": []
  }
 ],
 "metadata": {
  "kernelspec": {
   "display_name": "systbio",
   "language": "python",
   "name": "python3"
  },
  "language_info": {
   "codemirror_mode": {
    "name": "ipython",
    "version": 3
   },
   "file_extension": ".py",
   "mimetype": "text/x-python",
   "name": "python",
   "nbconvert_exporter": "python",
   "pygments_lexer": "ipython3",
   "version": "3.8.18"
  }
 },
 "nbformat": 4,
 "nbformat_minor": 2
}
